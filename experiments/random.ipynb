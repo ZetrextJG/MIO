{
 "cells": [
  {
   "cell_type": "code",
   "execution_count": 11,
   "metadata": {},
   "outputs": [],
   "source": [
    "INSIDE_ODP = r\"\"\"\n",
    "\\documentclass{article}\n",
    "\\usepackage[utf8]{inputenc}\n",
    "\\usepackage[T1]{fontenc}\n",
    "\\usepackage{amsmath, amssymb, geometry, polski}\n",
    "\\usepackage{tkz-euclide}\n",
    "\\usepackage{graphicx}\n",
    "\\usepackage{xcolor}\n",
    "\\usepackage{tikz}\n",
    "\\usepackage{amsfonts, amsthm, latexsym} \n",
    "\\newgeometry{tmargin=3cm, bmargin=3cm, lmargin=3cm, rmargin=3cm}\n",
    "\n",
    "\n",
    "\\newcommand{\\zwierz}[1]{\\textcolor{red}{#1}}\n",
    "\\newcommand{\\tomek}[1]{\\textcolor{blue}{#1}}\n",
    "\n",
    "\n",
    "\\title{%title% -- odpowiedzi}\n",
    "\\author{Koło Naukowe Matematyków PW}\n",
    "\\date{14.04.2024}\n",
    "\n",
    "\\theoremstyle{definition}\n",
    "\\newtheorem{zad}{Zadanko}\n",
    "\\newtheorem{odp}{Przykładowy szkic rozwiązania}\n",
    "\\usepackage{fancyhdr}\n",
    "\n",
    "\n",
    "% zadanka zaczynamy \\begin{zad} a odpowiedzi \\begin{odp} \n",
    "\\begin{document}\n",
    "\\begin{figure}\n",
    "    \\centering\n",
    "    \\includegraphics[scale = 0.8]{baner.png}\n",
    "\\end{figure}\n",
    "\n",
    "\n",
    "\\maketitle\n",
    "\n",
    "\\begin{zad}\n",
    "\\end{zad}\n",
    "\n",
    "\\begin{odp}\n",
    "\\end{odp}\n",
    "\n",
    "% Odpowiedzi zaczynamy od nowej strony\n",
    "\\newpage\n",
    "\\begin{zad}\n",
    "\\end{zad}\n",
    "\n",
    "\\begin{odp}\n",
    "\\end{odp}\n",
    "\n",
    "\n",
    "\n",
    "\\end{document}\n",
    "\"\"\""
   ]
  },
  {
   "cell_type": "code",
   "execution_count": 12,
   "metadata": {},
   "outputs": [],
   "source": [
    "INSIDE = r\"\"\"\n",
    "\\documentclass{article}\n",
    "\\usepackage[utf8]{inputenc}\n",
    "\\usepackage[T1]{fontenc}\n",
    "\\usepackage{amsmath, amssymb, geometry, polski}\n",
    "\\usepackage{tkz-euclide}\n",
    "\\usepackage{graphicx}\n",
    "\\usepackage{xcolor}\n",
    "\\usepackage{amsfonts, amsthm, latexsym} \n",
    "\\newgeometry{tmargin=3cm, bmargin=3cm, lmargin=3cm, rmargin=3cm}\n",
    "\n",
    "\\title{\\vspace{-2em}Funkcja kwadratowa i liniowa}\n",
    "\\author{Koło Naukowe Matematyków PW}\n",
    "\\date{14.04.2024}\n",
    "\n",
    "\\theoremstyle{definition}\n",
    "\\newtheorem{zad}{Zadanko}\n",
    "\\newtheorem{odp}{Odpowiedź}\n",
    "\\usepackage{fancyhdr}\n",
    "\\pagestyle{fancy}\n",
    "\n",
    "\n",
    "% zadanka zaczynamy \\begin{zad} a odpowiedzi \\begin{odp} \n",
    "\\begin{document}\n",
    "\\begin{figure}\n",
    "    \\centering\n",
    "    \\vspace{-3em}\n",
    "    \\includegraphics[scale = 0.8]{baner.png}\n",
    "\\end{figure}\n",
    "\n",
    "\n",
    "\\maketitle\n",
    "\n",
    "\\begin{zad}\n",
    "\\end{zad}\n",
    "\n",
    "\\end{document}\n",
    "\"\"\""
   ]
  },
  {
   "cell_type": "code",
   "execution_count": 13,
   "metadata": {},
   "outputs": [],
   "source": [
    "kursy = [\n",
    "    \"Rachunek Różniczkowy\",\n",
    "    \"Rachunek Prawdopodobieństwa\",\n",
    "    \"Stereometria\",\n",
    "    \"Zadania różne\",\n",
    "]"
   ]
  },
  {
   "cell_type": "code",
   "execution_count": 14,
   "metadata": {},
   "outputs": [
    {
     "name": "stdout",
     "output_type": "stream",
     "text": [
      "Stworzono plik Rachunek Różniczkowy.tex\n",
      "Stworzono plik Rachunek Różniczkowy.tex\n",
      "Stworzono plik Rachunek Prawdopodobieństwa.tex\n",
      "Stworzono plik Rachunek Prawdopodobieństwa.tex\n",
      "Stworzono plik Stereometria.tex\n",
      "Stworzono plik Stereometria.tex\n",
      "Stworzono plik Zadania różne.tex\n",
      "Stworzono plik Zadania różne.tex\n"
     ]
    }
   ],
   "source": [
    "for kurs in kursy:\n",
    "    with open(f\"{kurs}.tex\", \"w\") as f:\n",
    "        text = INSIDE.replace(\"%title%\", kurs).strip()\n",
    "        f.write(text)\n",
    "    print(f\"Stworzono plik {kurs}.tex\")\n",
    "    with open(f\"{kurs} - ODPOWIEDZI.tex\", \"w\") as f:\n",
    "        text = INSIDE_ODP.replace(\"%title%\", kurs).strip()\n",
    "        f.write(text)\n",
    "    print(f\"Stworzono plik {kurs}.tex\")\n"
   ]
  },
  {
   "cell_type": "code",
   "execution_count": null,
   "metadata": {},
   "outputs": [],
   "source": []
  }
 ],
 "metadata": {
  "kernelspec": {
   "display_name": "mio",
   "language": "python",
   "name": "python3"
  },
  "language_info": {
   "codemirror_mode": {
    "name": "ipython",
    "version": 3
   },
   "file_extension": ".py",
   "mimetype": "text/x-python",
   "name": "python",
   "nbconvert_exporter": "python",
   "pygments_lexer": "ipython3",
   "version": "3.10.13"
  }
 },
 "nbformat": 4,
 "nbformat_minor": 2
}
