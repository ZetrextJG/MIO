{
 "cells": [
  {
   "cell_type": "code",
   "execution_count": 29,
   "id": "631b8a8c-5e6f-4618-9633-0f697acbb624",
   "metadata": {},
   "outputs": [],
   "source": [
    "import numpy as np\n",
    "import pandas as pd\n",
    "from matplotlib import pyplot as plt\n",
    "import seaborn as sns\n",
    "from tqdm.auto import tqdm"
   ]
  },
  {
   "cell_type": "code",
   "execution_count": 3,
   "id": "12ebbf4c-d25f-40e1-b7c3-5e7156c753bb",
   "metadata": {},
   "outputs": [
    {
     "data": {
      "text/html": [
       "<div>\n",
       "<style scoped>\n",
       "    .dataframe tbody tr th:only-of-type {\n",
       "        vertical-align: middle;\n",
       "    }\n",
       "\n",
       "    .dataframe tbody tr th {\n",
       "        vertical-align: top;\n",
       "    }\n",
       "\n",
       "    .dataframe thead th {\n",
       "        text-align: right;\n",
       "    }\n",
       "</style>\n",
       "<table border=\"1\" class=\"dataframe\">\n",
       "  <thead>\n",
       "    <tr style=\"text-align: right;\">\n",
       "      <th></th>\n",
       "      <th>x</th>\n",
       "      <th>y</th>\n",
       "      <th>z</th>\n",
       "    </tr>\n",
       "  </thead>\n",
       "  <tbody>\n",
       "    <tr>\n",
       "      <th>0</th>\n",
       "      <td>0.187781</td>\n",
       "      <td>0.239537</td>\n",
       "      <td>0.382492</td>\n",
       "    </tr>\n",
       "    <tr>\n",
       "      <th>1</th>\n",
       "      <td>-1.308979</td>\n",
       "      <td>-0.143321</td>\n",
       "      <td>-0.966648</td>\n",
       "    </tr>\n",
       "    <tr>\n",
       "      <th>2</th>\n",
       "      <td>-0.987613</td>\n",
       "      <td>0.679918</td>\n",
       "      <td>-0.037552</td>\n",
       "    </tr>\n",
       "    <tr>\n",
       "      <th>3</th>\n",
       "      <td>0.924980</td>\n",
       "      <td>0.607235</td>\n",
       "      <td>-0.146856</td>\n",
       "    </tr>\n",
       "    <tr>\n",
       "      <th>4</th>\n",
       "      <td>-0.098663</td>\n",
       "      <td>0.004329</td>\n",
       "      <td>-0.588876</td>\n",
       "    </tr>\n",
       "  </tbody>\n",
       "</table>\n",
       "</div>"
      ],
      "text/plain": [
       "          x         y         z\n",
       "0  0.187781  0.239537  0.382492\n",
       "1 -1.308979 -0.143321 -0.966648\n",
       "2 -0.987613  0.679918 -0.037552\n",
       "3  0.924980  0.607235 -0.146856\n",
       "4 -0.098663  0.004329 -0.588876"
      ]
     },
     "execution_count": 3,
     "metadata": {},
     "output_type": "execute_result"
    }
   ],
   "source": [
    "cube_df = pd.read_csv(\"./data/cube.csv\")\n",
    "train_df = cube_df[[\"x\", \"y\", \"z\"]]\n",
    "train_df.head()"
   ]
  },
  {
   "cell_type": "code",
   "execution_count": 4,
   "id": "14ba457c-6f86-46ea-9566-b2dc845ff827",
   "metadata": {},
   "outputs": [
    {
     "data": {
      "text/plain": [
       "(1200, 3)"
      ]
     },
     "execution_count": 4,
     "metadata": {},
     "output_type": "execute_result"
    }
   ],
   "source": [
    "train_input = train_df.values\n",
    "train_input.shape"
   ]
  },
  {
   "cell_type": "code",
   "execution_count": 110,
   "id": "5b508b19-d097-4c0a-a0a3-1155cf5f72f6",
   "metadata": {},
   "outputs": [],
   "source": [
    "import itertools"
   ]
  },
  {
   "cell_type": "code",
   "execution_count": 170,
   "id": "d3bebfb1-07f3-44c4-91ac-d01cf06b3e38",
   "metadata": {},
   "outputs": [],
   "source": [
    "def grid_coordinates(m: int, n: int) -> np.ndarray:\n",
    "    \"\"\"Returns the array of shape (m, n, 2) that represenst the grid/latice coordinates\"\"\"\n",
    "    return np.array(list(itertools.product(np.arange(m),np.arange(n))))"
   ]
  },
  {
   "cell_type": "code",
   "execution_count": 186,
   "id": "c79450b3-cbe7-4c79-9d02-a1d344cd77e8",
   "metadata": {},
   "outputs": [],
   "source": [
    "def latice_distance(u: np.ndarray, v: np.ndarray):\n",
    "    \"\"\"Computes the euclidian distance between square grid points\"\"\"\n",
    "    diff = u - v \n",
    "    return np.sum(diff**2, axis=-1)"
   ]
  },
  {
   "cell_type": "code",
   "execution_count": 187,
   "id": "8eb227ab-ecbe-415f-98b2-f9746052183a",
   "metadata": {},
   "outputs": [],
   "source": [
    "@np.vectorize\n",
    "def convert_grid_to_axial(i, j):\n",
    "    q = i - (j - (j&1)) / 2\n",
    "    r = j\n",
    "    return q, r"
   ]
  },
  {
   "cell_type": "code",
   "execution_count": 188,
   "id": "d55c65f6-202c-4629-82c5-a56afc9e9d8b",
   "metadata": {},
   "outputs": [],
   "source": [
    "def axial_hexgrid_coordinates(m: int, n: int) -> np.ndarray:\n",
    "    \"\"\"Returns the array of shape m, n, 2 that represent the hexgrid in axial coordinates\"\"\"\n",
    "    xs, ys = np.fromfunction(convert_grid_to_axial, (m, n), dtype=int)\n",
    "    return np.dstack((xs, ys))"
   ]
  },
  {
   "cell_type": "code",
   "execution_count": null,
   "id": "6833a7bd-278b-4965-9514-a77954a8536d",
   "metadata": {},
   "outputs": [],
   "source": [
    "def axial_distance"
   ]
  },
  {
   "cell_type": "code",
   "execution_count": 185,
   "id": "8d93b6ff-65c2-43df-9559-7328e480893f",
   "metadata": {},
   "outputs": [
    {
     "data": {
      "text/plain": [
       "array([[[-1., -1.],\n",
       "        [-1.,  0.],\n",
       "        [-2.,  1.]],\n",
       "\n",
       "       [[ 0., -1.],\n",
       "        [ 0.,  0.],\n",
       "        [-1.,  1.]],\n",
       "\n",
       "       [[ 1., -1.],\n",
       "        [ 1.,  0.],\n",
       "        [ 0.,  1.]]])"
      ]
     },
     "execution_count": 185,
     "metadata": {},
     "output_type": "execute_result"
    }
   ],
   "source": [
    "axial_hexgrid = axial_hexgrid_coordinates(3, 3)\n",
    "U = \n",
    "axial_hexgrid - convert_grid_to_axial(1, 1)\n"
   ]
  },
  {
   "cell_type": "code",
   "execution_count": 169,
   "id": "1d03f3e8-8f63-4cf0-bcf9-6906e0adba2d",
   "metadata": {},
   "outputs": [
    {
     "data": {
      "text/plain": [
       "array([-1.,  2.])"
      ]
     },
     "execution_count": 169,
     "metadata": {},
     "output_type": "execute_result"
    }
   ],
   "source": [
    "z[0, 2]"
   ]
  },
  {
   "cell_type": "code",
   "execution_count": null,
   "id": "6df40ff7-b9f8-43fb-be59-2b037d7f5a10",
   "metadata": {},
   "outputs": [],
   "source": [
    "# function oddr_to_axial(hex):\n",
    "#     var q = hex.col - (hex.row - (hex.row&1)) / 2\n",
    "#     var r = hex.row\n",
    "#     return Hex(q, r)"
   ]
  },
  {
   "cell_type": "code",
   "execution_count": 142,
   "id": "493bc630-607b-4057-8c95-e200b7d7bb82",
   "metadata": {},
   "outputs": [
    {
     "data": {
      "text/plain": [
       "array([[[0., 0.],\n",
       "        [0., 1.],\n",
       "        [0., 2.],\n",
       "        [0., 3.],\n",
       "        [0., 4.],\n",
       "        [0., 5.]],\n",
       "\n",
       "       [[1., 0.],\n",
       "        [1., 1.],\n",
       "        [1., 2.],\n",
       "        [1., 3.],\n",
       "        [1., 4.],\n",
       "        [1., 5.]],\n",
       "\n",
       "       [[2., 0.],\n",
       "        [2., 1.],\n",
       "        [2., 2.],\n",
       "        [2., 3.],\n",
       "        [2., 4.],\n",
       "        [2., 5.]],\n",
       "\n",
       "       [[3., 0.],\n",
       "        [3., 1.],\n",
       "        [3., 2.],\n",
       "        [3., 3.],\n",
       "        [3., 4.],\n",
       "        [3., 5.]]])"
      ]
     },
     "execution_count": 142,
     "metadata": {},
     "output_type": "execute_result"
    }
   ],
   "source": [
    "\n",
    "def generator(i,j):\n",
    "    return i, j\n",
    "a, b = np.fromfunction(generator, (4, 6))\n",
    "np.dstack((a, b))"
   ]
  },
  {
   "cell_type": "code",
   "execution_count": null,
   "id": "7f5cec53-5371-4295-a922-bfbdb5bb95e4",
   "metadata": {},
   "outputs": [],
   "source": []
  },
  {
   "cell_type": "code",
   "execution_count": 69,
   "id": "2cc18787-11e8-4edd-9f56-4ecc9b6407d4",
   "metadata": {},
   "outputs": [],
   "source": [
    "\"\"\"Neighborhood functions\"\"\"\n",
    "def circle(distances: np.ndarray, radius: float = 1):\n",
    "    return (distances <= radius) * 1\n",
    "\n",
    "def gaussian(distances: np.ndarray, radius: float = 1):\n",
    "    t = (distances / radius)**2\n",
    "    return np.exp(-t/2)\n",
    "\n",
    "def mexican_hat(distances: np.ndarray, radius: float = 1):\n",
    "    t = (distances / radius)**2\n",
    "    return (1 - t)*np.exp(-t/2)"
   ]
  },
  {
   "cell_type": "code",
   "execution_count": 77,
   "id": "ed0fbaf3-cf7f-4fd3-a103-7e487fcc325b",
   "metadata": {},
   "outputs": [
    {
     "data": {
      "text/plain": [
       "<matplotlib.collections.PathCollection at 0x701df8f61090>"
      ]
     },
     "execution_count": 77,
     "metadata": {},
     "output_type": "execute_result"
    },
    {
     "data": {
      "image/png": "[encoded data removed]",
      "text/plain": [
       "<Figure size 640x480 with 1 Axes>"
      ]
     },
     "metadata": {},
     "output_type": "display_data"
    }
   ],
   "source": [
    "x = np.linspace(0, 10, 100)\n",
    "plt.scatter(x, gaussian(x))"
   ]
  },
  {
   "cell_type": "markdown",
   "id": "5a7e47a0-8f2c-4eb0-afb9-6de082d920fc",
   "metadata": {},
   "source": [
    "# Config"
   ]
  },
  {
   "cell_type": "code",
   "execution_count": 60,
   "id": "39533439-2fcb-4bea-ad9f-f8f7b5c8cd0d",
   "metadata": {},
   "outputs": [],
   "source": [
    "from functools import partial"
   ]
  },
  {
   "cell_type": "code",
   "execution_count": 8,
   "id": "99ea1555-c001-4666-bc6d-a3ea1535fb4b",
   "metadata": {},
   "outputs": [],
   "source": [
    "OBSERVATION_NUM, FEATURE_DIM = train_input.shape \n",
    "\n",
    "MAP_M = 10\n",
    "MAP_N = 10\n",
    "MAP_SHAPE = (MAP_M, MAP_N)\n",
    "TOTAL_EPOCHS = 100\n",
    "\n",
    "NEIGHTBORHOOD_FUNCTION = partial(gaussian, width=0.5)\n",
    "\n",
    "LEARNING_RATE_BASE = 1e-1"
   ]
  },
  {
   "cell_type": "markdown",
   "id": "f09a983f-97bb-40e3-84e2-57256be5d82d",
   "metadata": {},
   "source": [
    "# Model and iterations"
   ]
  },
  {
   "cell_type": "code",
   "execution_count": 9,
   "id": "cb8be58c-6830-4439-af69-46472e278019",
   "metadata": {},
   "outputs": [],
   "source": [
    "def learning_rate_scheduler(current_epoch: int):\n",
    "    decay_rate = np.exp(-current_epoch / TOTAL_EPOCHS)\n",
    "    return LEARNING_RATE_BASE * decay_rate"
   ]
  },
  {
   "cell_type": "code",
   "execution_count": 10,
   "id": "5a43ce04-b059-4fcd-b7a7-63195cfcbe2d",
   "metadata": {},
   "outputs": [
    {
     "data": {
      "application/vnd.jupyter.widget-view+json": {
       "model_id": "2e05fbb3866441358024dd81f342c6ea",
       "version_major": 2,
       "version_minor": 0
      },
      "text/plain": [
       "  0%|          | 0/100 [00:00<?, ?it/s]"
      ]
     },
     "metadata": {},
     "output_type": "display_data"
    }
   ],
   "source": [
    "map_weights = np.random.rand(*MAP_SHAPE, FEATURE_DIM)\n",
    "\n",
    "for current_epoch in tqdm(range(TOTAL_EPOCHS)):\n",
    "    # Learning rate\n",
    "    learning_rate = learning_rate_scheduler(current_epoch)\n",
    "    \n",
    "    for point_idx in range(OBSERVATION_NUM):\n",
    "\n",
    "        data_vector = train_input[point_idx]\n",
    "        \n",
    "        # Winner\n",
    "        latent_dist = map_weights @ data_vector\n",
    "        bmu = np.unravel_index(np.argmax(latent_dist), MAP_SHAPE)\n",
    "\n",
    "        # Neighborhood\n",
    "        @np.vectorize\n",
    "        def neightborhood_generator(i, j):\n",
    "            dist_sq = euclidian_distance(\n",
    "                np.asarray(bmu),\n",
    "                np.asarray([i, j])\n",
    "            )\n",
    "            return NEIGHTBORHOOD_FUNCTION(dist_sq)\n",
    "\n",
    "        neightborhood = np.fromfunction(\n",
    "            neightborhood_generator, MAP_SHAPE\n",
    "        ).reshape(*MAP_SHAPE, 1)\n",
    "\n",
    "        # Update weights\n",
    "        map_weights += learning_rate * neightborhood * (data_vector - map_weights)"
   ]
  },
  {
   "cell_type": "code",
   "execution_count": 11,
   "id": "8a8a1fb6-928f-4c91-9048-733c1f79cc17",
   "metadata": {},
   "outputs": [
    {
     "data": {
      "text/plain": [
       "<Axes: >"
      ]
     },
     "execution_count": 11,
     "metadata": {},
     "output_type": "execute_result"
    },
    {
     "data": {
      "image/png": "[encoded data removed]",
      "text/plain": [
       "<Figure size 640x480 with 2 Axes>"
      ]
     },
     "metadata": {},
     "output_type": "display_data"
    }
   ],
   "source": [
    "scale_map = np.sum(map_weights**2, axis=-1)\n",
    "sns.heatmap(scale_map)"
   ]
  },
  {
   "cell_type": "code",
   "execution_count": 21,
   "id": "4c03ea27-dab9-4c56-88a1-8b81b1207257",
   "metadata": {},
   "outputs": [
    {
     "data": {
      "text/plain": [
       "<Axes: >"
      ]
     },
     "execution_count": 21,
     "metadata": {},
     "output_type": "execute_result"
    },
    {
     "data": {
      "image/png": "[encoded data removed]",
      "text/plain": [
       "<Figure size 640x480 with 2 Axes>"
      ]
     },
     "metadata": {},
     "output_type": "display_data"
    }
   ],
   "source": [
    "sns.heatmap(map_weights @ train_input[3])"
   ]
  },
  {
   "cell_type": "code",
   "execution_count": 22,
   "id": "83cdbbce-d7a8-4ae4-9246-85ff6f16aa70",
   "metadata": {},
   "outputs": [],
   "source": [
    "from collections import defaultdict"
   ]
  },
  {
   "cell_type": "code",
   "execution_count": 23,
   "id": "d6b77dc1-728e-4944-82a9-e4f7721077ed",
   "metadata": {},
   "outputs": [],
   "source": [
    "a = (map_weights @ train_input.T).T\n",
    "\n",
    "bmus = set()\n",
    "for i in range(a.shape[0]):\n",
    "    bmu = np.unravel_index(np.argmax(a[i, :, :]), MAP_SHAPE)\n",
    "    bmus.add(bmu)"
   ]
  },
  {
   "cell_type": "code",
   "execution_count": 24,
   "id": "7d3394d9-6ab5-4ce2-b7a8-b42f142f1cbc",
   "metadata": {
    "scrolled": true
   },
   "outputs": [
    {
     "data": {
      "text/plain": [
       "29"
      ]
     },
     "execution_count": 24,
     "metadata": {},
     "output_type": "execute_result"
    }
   ],
   "source": [
    "len(bmus)"
   ]
  },
  {
   "cell_type": "code",
   "execution_count": 25,
   "id": "c6feb103-558c-4286-96b7-68c10e9abb2e",
   "metadata": {},
   "outputs": [],
   "source": [
    "bmus_list = list(bmus)\n",
    "cluster_ids = []\n",
    "for i in range(a.shape[0]):\n",
    "    bmu = np.unravel_index(np.argmax(a[i, :, :]), MAP_SHAPE)\n",
    "    cluster_ids.append(\n",
    "        bmus_list.index(bmu)\n",
    "    )"
   ]
  },
  {
   "cell_type": "code",
   "execution_count": 17,
   "id": "1a681e88-5d38-484a-8d74-41e50f04bfa3",
   "metadata": {},
   "outputs": [
    {
     "name": "stdout",
     "output_type": "stream",
     "text": [
      "Class 0 -> SOM classes: [20 21  0 11 14  2  5 15 22 27 23 12 24  6 19  1 28 25  7  4  9 13 17  3\n",
      " 16  8 26]\n",
      "Class 1 -> SOM classes: [13  6 20  9 22 24  3]\n",
      "Class 2 -> SOM classes: [ 2 17 20  1 18 10]\n",
      "Class 3 -> SOM classes: [20]\n",
      "Class 4 -> SOM classes: [27 22 20 17  2 15  1 10 14]\n",
      "Class 5 -> SOM classes: [20 22  9]\n",
      "Class 6 -> SOM classes: [17  2  1 20 10]\n",
      "Class 7 -> SOM classes: [20]\n"
     ]
    }
   ],
   "source": [
    "cube_df[\"som\"] = cluster_ids\n",
    "for i in range(8):\n",
    "    df_slice = cube_df[cube_df[\"c\"] == i]\n",
    "    unique = df_slice[\"som\"].unique()\n",
    "    print(f\"Class {i} -> SOM classes: {unique}\")"
   ]
  },
  {
   "cell_type": "code",
   "execution_count": 26,
   "id": "de9216b2-2bc3-4cda-893b-129f80fe5a23",
   "metadata": {},
   "outputs": [
    {
     "data": {
      "text/plain": [
       "(4, 4)"
      ]
     },
     "execution_count": 26,
     "metadata": {},
     "output_type": "execute_result"
    }
   ],
   "source": [
    "bmus_list[20]"
   ]
  },
  {
   "cell_type": "code",
   "execution_count": null,
   "id": "ef942b26-59a4-4e30-8573-a5f06b3d2059",
   "metadata": {},
   "outputs": [],
   "source": []
  }
 ],
 "metadata": {
  "kernelspec": {
   "display_name": "Python 3 (ipykernel)",
   "language": "python",
   "name": "python3"
  },
  "language_info": {
   "codemirror_mode": {
    "name": "ipython",
    "version": 3
   },
   "file_extension": ".py",
   "mimetype": "text/x-python",
   "name": "python",
   "nbconvert_exporter": "python",
   "pygments_lexer": "ipython3",
   "version": "3.10.13"
  }
 },
 "nbformat": 4,
 "nbformat_minor": 5
}
