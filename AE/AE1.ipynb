{
 "cells": [
  {
   "cell_type": "code",
   "execution_count": 14,
   "metadata": {},
   "outputs": [],
   "source": [
    "import numpy as np\n",
    "import pandas as pd\n",
    "from matplotlib import pyplot as plt"
   ]
  },
  {
   "cell_type": "markdown",
   "metadata": {},
   "source": [
    "# Convention\n",
    "\n",
    "The matrix X will be of shape (n, d) where n is the number of observations and the d is the number of features"
   ]
  },
  {
   "cell_type": "code",
   "execution_count": 15,
   "metadata": {},
   "outputs": [],
   "source": [
    "class Mutation:\n",
    "\n",
    "    @staticmethod\n",
    "    def gaussian(X: np.ndarray, sigma: float = 0.1, p: float = 0.2) -> np.ndarray:\n",
    "        \"\"\"\n",
    "        Apply gaussian mutation to the input matrix X with a given probability p\n",
    "        \"\"\"\n",
    "        mask = (np.random.random(X.shape) < p) * 1\n",
    "        noise = np.random.normal(0, sigma, X.shape)\n",
    "        return X + mask * noise\n",
    "\n",
    "    @staticmethod\n",
    "    def flip(X: np.ndarray, p: float = 0.2) -> np.ndarray:\n",
    "        \"\"\"\n",
    "        Apply flip mutation to the input matrix X with a given probability p\n",
    "        \"\"\"\n",
    "        mask = (np.random.random(X.shape) < p) * 1\n",
    "        return (1 - mask) * X + mask * (1 - X)"
   ]
  },
  {
   "cell_type": "code",
   "execution_count": 3,
   "metadata": {},
   "outputs": [],
   "source": [
    "class Crossover:\n",
    "\n",
    "    @staticmethod\n",
    "    def get_parents(population: np.ndarray, crossover_p: float = 0.7) -> tuple[np.ndarray, np.ndarray]:\n",
    "        \"\"\"\n",
    "        Split the population into two groups of parents\n",
    "        \"\"\"\n",
    "        prob_vector = np.random.random(population.shape[0])\n",
    "        reproductive_population = population[prob_vector < crossover_p]\n",
    "        idx = np.arange(reproductive_population.shape[0])\n",
    "        np.random.shuffle(idx)\n",
    "        reproductive_population = reproductive_population[idx]\n",
    "\n",
    "        split_idx = reproductive_population.shape[0] // 2\n",
    "\n",
    "        return reproductive_population[:split_idx], reproductive_population[split_idx:(2*split_idx)]\n",
    "\n",
    "    @staticmethod\n",
    "    def pointwise(parents1: np.ndarray, parents2: np.ndarray, split_portion: float = 0.5) -> np.ndarray:\n",
    "        \"\"\"\n",
    "        Apply pointwise crossover to the input matrices parent1 and parent2 with a given probability p\n",
    "        \"\"\"\n",
    "        assert parents1.shape == parents2.shape\n",
    "        split_point = int(parents1.shape[1] * split_portion)\n",
    "        return np.concatenate([parents1[:, :split_point], parents2[:, split_point:]], axis=1)\n",
    "\n",
    "    @staticmethod\n",
    "    def mean(parents1: np.ndarray, parents2: np.ndarray) -> np.ndarray:\n",
    "        \"\"\"\n",
    "        Apply mean crossover to the input matrices parent1 and parent2 with a given probability p\n",
    "        \"\"\"\n",
    "        assert parents1.shape == parents2.shape\n",
    "        return (parents1 + parents2) / 2\n"
   ]
  },
  {
   "cell_type": "code",
   "execution_count": 4,
   "metadata": {},
   "outputs": [],
   "source": [
    "class Selection:\n",
    "\n",
    "    @staticmethod\n",
    "    def roulette(population: np.ndarray, fitness: np.ndarray, n: int = 1) -> np.ndarray:\n",
    "        \"\"\"\n",
    "        Apply roulette selection to the input population. Select n individuals based on their fitness\n",
    "        \"\"\"\n",
    "        total_fitness = np.sum(fitness)\n",
    "        probabilities = fitness / total_fitness\n",
    "        idx = np.random.choice(population.shape[0], n, p=probabilities)\n",
    "        return population[idx]\n",
    "\n",
    "    @staticmethod\n",
    "    def fittest(population: np.ndarray, fitness: np.ndarray, n: int = 1) -> np.ndarray:\n",
    "        \"\"\"\n",
    "        Apply fittest selection to the input population. Select the n fittest individuals\n",
    "        \"\"\"\n",
    "        idx = np.argsort(fitness)[::-1][:n]\n",
    "        return population[idx]"
   ]
  },
  {
   "cell_type": "markdown",
   "metadata": {},
   "source": [
    "# Function testing"
   ]
  },
  {
   "cell_type": "code",
   "execution_count": 5,
   "metadata": {},
   "outputs": [],
   "source": [
    "def simple_parabolid(X):\n",
    "    return X[:, 0] ** 2 + X[:, 1] ** 2 + 2 * (X[:, 2] ** 2)"
   ]
  },
  {
   "cell_type": "code",
   "execution_count": 9,
   "metadata": {},
   "outputs": [
    {
     "name": "stdout",
     "output_type": "stream",
     "text": [
      "Generation 0: -0.06534414553822687\n",
      "Generation 1: -0.06534414553822687\n",
      "Generation 2: -0.06534414553822687\n",
      "Generation 3: -0.06534414553822687\n",
      "Generation 4: -0.05727465767565669\n",
      "Generation 5: -0.05638713727327342\n",
      "Generation 6: -0.006750929830749732\n",
      "Generation 7: -0.006750929830749732\n",
      "Generation 8: -0.00496011182464408\n",
      "Generation 9: -0.00496011182464408\n",
      "Generation 10: -0.00496011182464408\n",
      "Generation 11: -0.00496011182464408\n",
      "Generation 12: -0.00496011182464408\n",
      "Generation 13: -0.0007189222079671683\n",
      "Generation 14: -0.0007189222079671683\n",
      "Generation 15: -0.0007189222079671683\n",
      "Generation 16: -0.0007189222079671683\n",
      "Generation 17: -0.0007189222079671683\n",
      "Generation 18: -0.0007189222079671683\n",
      "Generation 19: -0.0007189222079671683\n",
      "Generation 20: -0.0007189222079671683\n",
      "Generation 21: -0.0007189222079671683\n",
      "Generation 22: -0.0007189222079671683\n",
      "Generation 23: -0.0007189222079671683\n",
      "Generation 24: -0.000428245038795352\n",
      "Generation 25: -0.000428245038795352\n",
      "Generation 26: -0.000428245038795352\n",
      "Generation 27: -0.000286154000321094\n",
      "Generation 28: -0.000286154000321094\n",
      "Generation 29: -0.00022234583208827777\n",
      "Generation 30: -0.00022234583208827777\n",
      "Generation 31: -0.00022234583208827777\n",
      "Generation 32: -0.00022234583208827777\n",
      "Generation 33: -0.00022234583208827777\n",
      "Generation 34: -0.00022234583208827777\n",
      "Generation 35: -0.00022234583208827777\n",
      "Generation 36: -0.00022234583208827777\n",
      "Generation 37: -0.00014170550280105513\n",
      "Generation 38: -0.00014170550280105513\n",
      "Generation 39: -9.883254671271625e-05\n",
      "Generation 40: -9.883254671271625e-05\n",
      "Generation 41: -9.591802119406338e-05\n",
      "Generation 42: -9.591802119406338e-05\n",
      "Generation 43: -9.391172253240149e-05\n",
      "Generation 44: -2.5846793502875477e-05\n",
      "Generation 45: -2.5846793502875477e-05\n",
      "Generation 46: -2.5846793502875477e-05\n",
      "Generation 47: -2.5846793502875477e-05\n",
      "Generation 48: -2.5846793502875477e-05\n",
      "Generation 49: -2.5846793502875477e-05\n"
     ]
    }
   ],
   "source": [
    "TIMESTEPS = 50\n",
    "N = 100\n",
    "D = 3\n",
    "f = lambda x: -simple_parabolid(x)\n",
    "\n",
    "\n",
    "population = np.random.random((N, D))\n",
    "\n",
    "scores = []\n",
    "for t in range(TIMESTEPS):\n",
    "\n",
    "    parents1, parents2 = Crossover.get_parents(population)\n",
    "    children = Crossover.pointwise(parents1, parents2)\n",
    "    mutated_children = Mutation.gaussian(children)\n",
    "    new_population = np.concatenate([population, mutated_children], axis=0)\n",
    "\n",
    "    fitness = f(new_population)\n",
    "    max_fitness = np.max(fitness)\n",
    "    print(f\"Generation {t}: {max_fitness}\")\n",
    "    scores.append(max_fitness)\n",
    "\n",
    "    population = Selection.fittest(new_population, fitness, N)\n"
   ]
  },
  {
   "cell_type": "code",
   "execution_count": 10,
   "metadata": {},
   "outputs": [
    {
     "data": {
      "text/plain": [
       "[<matplotlib.lines.Line2D at 0x7bb044df6ad0>]"
      ]
     },
     "execution_count": 10,
     "metadata": {},
     "output_type": "execute_result"
    },
    {
     "data": {
      "image/png": "[encoded data removed]",
      "text/plain": [
       "<Figure size 640x480 with 1 Axes>"
      ]
     },
     "metadata": {},
     "output_type": "display_data"
    }
   ],
   "source": [
    "plt.plot(scores)"
   ]
  },
  {
   "cell_type": "markdown",
   "metadata": {},
   "source": [
    "## Restiring function"
   ]
  },
  {
   "cell_type": "code",
   "execution_count": 11,
   "metadata": {},
   "outputs": [],
   "source": [
    "import math\n",
    "def rastrigin(X):\n",
    "    A = 10\n",
    "    return A * X.shape[1] + np.sum(X ** 2 - A * np.cos(2 * math.pi * X), axis=1)"
   ]
  },
  {
   "cell_type": "code",
   "execution_count": 16,
   "metadata": {},
   "outputs": [
    {
     "name": "stdout",
     "output_type": "stream",
     "text": [
      "Generation 0: 131.33242156743623\n",
      "Generation 1: 131.33242156743623\n",
      "Generation 2: 131.33242156743623\n",
      "Generation 3: 131.33242156743623\n",
      "Generation 4: 131.33242156743623\n",
      "Generation 5: 143.68845198921707\n",
      "Generation 6: 144.3022131172935\n",
      "Generation 7: 144.3022131172935\n",
      "Generation 8: 144.3022131172935\n",
      "Generation 9: 144.3022131172935\n",
      "Generation 10: 144.5221027821375\n",
      "Generation 11: 144.5221027821375\n",
      "Generation 12: 146.01028079330268\n",
      "Generation 13: 146.51771432665004\n",
      "Generation 14: 146.51771432665004\n",
      "Generation 15: 146.51771432665004\n",
      "Generation 16: 146.51771432665004\n",
      "Generation 17: 146.51771432665004\n",
      "Generation 18: 149.6503334279999\n",
      "Generation 19: 150.15309106688537\n"
     ]
    }
   ],
   "source": [
    "TIMESTEPS = 20\n",
    "N = 10\n",
    "D = 5\n",
    "f = rastrigin\n",
    "\n",
    "\n",
    "population = (np.random.random(size=(N, D))  - 0.5) * 10\n",
    "\n",
    "scores = []\n",
    "for t in range(TIMESTEPS):\n",
    "\n",
    "    parents1, parents2 = Crossover.get_parents(population)\n",
    "    children = Crossover.pointwise(parents1, parents2)\n",
    "    mutated_children = Mutation.gaussian(children)\n",
    "    new_population = np.concatenate([population, mutated_children], axis=0)\n",
    "\n",
    "    fitness = f(new_population)\n",
    "    max_fitness = np.max(fitness)\n",
    "    print(f\"Generation {t}: {max_fitness}\")\n",
    "    scores.append(max_fitness)\n",
    "\n",
    "    population = Selection.fittest(new_population, fitness, N)\n"
   ]
  },
  {
   "cell_type": "code",
   "execution_count": 17,
   "metadata": {},
   "outputs": [
    {
     "data": {
      "text/plain": [
       "[<matplotlib.lines.Line2D at 0x7bb044382440>]"
      ]
     },
     "execution_count": 17,
     "metadata": {},
     "output_type": "execute_result"
    },
    {
     "data": {
      "image/png": "[encoded data removed]",
      "text/plain": [
       "<Figure size 640x480 with 1 Axes>"
      ]
     },
     "metadata": {},
     "output_type": "display_data"
    }
   ],
   "source": [
    "plt.plot(scores)"
   ]
  },
  {
   "cell_type": "code",
   "execution_count": null,
   "metadata": {},
   "outputs": [],
   "source": []
  }
 ],
 "metadata": {
  "kernelspec": {
   "display_name": "mio",
   "language": "python",
   "name": "python3"
  },
  "language_info": {
   "codemirror_mode": {
    "name": "ipython",
    "version": 3
   },
   "file_extension": ".py",
   "mimetype": "text/x-python",
   "name": "python",
   "nbconvert_exporter": "python",
   "pygments_lexer": "ipython3",
   "version": "3.10.13"
  }
 },
 "nbformat": 4,
 "nbformat_minor": 2
}
