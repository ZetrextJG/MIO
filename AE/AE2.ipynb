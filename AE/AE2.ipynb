{
 "cells": [
  {
   "cell_type": "code",
   "execution_count": 1,
   "metadata": {},
   "outputs": [
    {
     "name": "stderr",
     "output_type": "stream",
     "text": [
      "/tmp/ipykernel_15635/1874044763.py:2: DeprecationWarning: \n",
      "Pyarrow will become a required dependency of pandas in the next major release of pandas (pandas 3.0),\n",
      "(to allow more performant data types, such as the Arrow string type, and better interoperability with other libraries)\n",
      "but was not found to be installed on your system.\n",
      "If this would cause problems for you,\n",
      "please provide us feedback at https://github.com/pandas-dev/pandas/issues/54466\n",
      "        \n",
      "  import pandas as pd\n"
     ]
    }
   ],
   "source": [
    "import numpy as np\n",
    "import pandas as pd\n",
    "import matplotlib.pyplot as plt\n",
    "\n",
    "from dataclasses import dataclass"
   ]
  },
  {
   "cell_type": "code",
   "execution_count": 2,
   "metadata": {},
   "outputs": [],
   "source": [
    "data = pd.read_csv(\"./cutting/r800.csv\", header=None)\n",
    "data.columns = [\"width\", \"height\", \"value\"]"
   ]
  },
  {
   "cell_type": "code",
   "execution_count": 69,
   "metadata": {},
   "outputs": [],
   "source": [
    "@dataclass\n",
    "class Box:\n",
    "    x1: float\n",
    "    y1: float\n",
    "    x2: float\n",
    "    y2: float\n",
    "    value: float\n",
    "    \n",
    "    @property\n",
    "    def middle(self):\n",
    "        return (self.x1 + self.x2) / 2, (self.y1 + self.y2) / 2\n",
    "\n",
    "    @property\n",
    "    def box(self):\n",
    "        return self.x1, self.y1, self.x2, self.y2\n",
    "\n",
    "    @property\n",
    "    def height(self):\n",
    "        return self.y2 - self.y1\n",
    "\n",
    "    @property\n",
    "    def width(self):\n",
    "        return self.x2 - self.x1\n",
    "\n",
    "    @property\n",
    "    def top_left(self):\n",
    "        return self.x1, self.y1\n",
    "\n",
    "    @property\n",
    "    def top_right(self):\n",
    "        return self.x2, self.y1\n",
    "\n",
    "    @property\n",
    "    def bottom_left(self):\n",
    "        return self.x1, self.y2\n",
    "\n",
    "    @property\n",
    "    def bottom_right(self):\n",
    "        return self.x2, self.y2\n",
    "\n",
    "    @property\n",
    "    def verticies(self):\n",
    "        return [self.top_left, self.top_right, self.bottom_right, self.bottom_left]\n",
    "\n",
    "    @staticmethod\n",
    "    def from_point(x, y, width, height, value):\n",
    "        return Box(x, y, x + width, y + height, value)\n",
    "\n",
    "    def guassian_mutate(self, sigma: float = 0.1):\n",
    "        point_noise = np.random.normal(0, sigma, 2)\n",
    "        point = np.array(self.top_left)\n",
    "        new_point = point + point_noise\n",
    "        return Box.from_point(new_point[0], new_point[1], self.width, self.height, self.value)"
   ]
  },
  {
   "cell_type": "code",
   "execution_count": 70,
   "metadata": {},
   "outputs": [],
   "source": [
    "def iou(box1: Box, box2: Box):\n",
    "    x1 = max(box1.x1, box2.x1)\n",
    "    y1 = max(box1.y1, box2.y1)\n",
    "    x2 = min(box1.x2, box2.x2)\n",
    "    y2 = min(box1.y2, box2.y2)\n",
    "\n",
    "    intersection_width = max(0, x2 - x1)\n",
    "    intersection_height = max(0, y2 - y1)\n",
    "\n",
    "    if intersection_width == 0 or intersection_height == 0:\n",
    "        return 0\n",
    "    \n",
    "    intersection_area = max(0, x2 - x1) * max(0, y2 - y1)\n",
    "    union_area = (box1.x2 - box1.x1) * (box1.y2 - box1.y1) + (box2.x2 - box2.x1) * (box2.y2 - box2.y1) - intersection_area\n",
    "    return intersection_area / union_area"
   ]
  },
  {
   "cell_type": "code",
   "execution_count": 71,
   "metadata": {},
   "outputs": [],
   "source": [
    "def radius_check(box: Box, radius):\n",
    "    r = np.sqrt(np.sum(np.array(box.verticies) ** 2, axis=1))\n",
    "    return np.all(r <= radius)"
   ]
  },
  {
   "cell_type": "code",
   "execution_count": 72,
   "metadata": {},
   "outputs": [],
   "source": [
    "def random_point_inside_circle(radius):\n",
    "    r = radius * np.sqrt(np.random.random())\n",
    "    theta = np.random.random() * 2 * np.pi\n",
    "    x = 0 + r * np.cos(theta)\n",
    "    y = 0 + r * np.sin(theta)\n",
    "    return x, y"
   ]
  },
  {
   "cell_type": "code",
   "execution_count": 73,
   "metadata": {},
   "outputs": [],
   "source": [
    "def check(boxes: list[Box], new_box: Box):\n",
    "    if not radius_check(new_box, 800):\n",
    "        return False\n",
    "\n",
    "    for box in boxes:\n",
    "        if iou(box, new_box) > 0:\n",
    "            return False\n",
    "    return True"
   ]
  },
  {
   "cell_type": "code",
   "execution_count": 74,
   "metadata": {},
   "outputs": [],
   "source": [
    "from typing import Literal\n",
    "\n",
    "MUTATION_TYPE = Literal[\"gaussian\", \"add\", \"delete\"]\n",
    "\n",
    "@dataclass\n",
    "class Individial:\n",
    "    boxes: list[Box]\n",
    "\n",
    "    @property\n",
    "    def score(self):\n",
    "        return sum([box.value for box in self.boxes])\n",
    "\n",
    "    def mutate(self, mutation_type: MUTATION_TYPE) -> 'Individial':\n",
    "        if mutation_type == \"gaussian\":\n",
    "            if len(self.boxes) == 0:\n",
    "                return self\n",
    "            box_idx = int(np.random.randint(len(self.boxes)))\n",
    "            boxes = self.boxes.copy()\n",
    "            new_box = boxes.pop(box_idx).guassian_mutate()\n",
    "            if check(boxes, new_box):\n",
    "                boxes.append(new_box)\n",
    "                return Individial(boxes)\n",
    "\n",
    "            return self\n",
    "\n",
    "        if mutation_type == \"add\":\n",
    "            point = random_point_inside_circle(800)\n",
    "            box_type = data.sample()\n",
    "            width, height, value = int(box_type.width), int(box_type.height), int(box_type.value)\n",
    "\n",
    "            new_box = Box.from_point(point[0], point[1], width, height, value)\n",
    "\n",
    "            if check(self.boxes, new_box):\n",
    "                return Individial(self.boxes + [new_box])\n",
    "\n",
    "            return self\n",
    "\n",
    "        if mutation_type == \"delete\":\n",
    "            idx = int(np.random.randint(len(self.boxes)))\n",
    "            boxes = self.boxes.copy()\n",
    "            boxes.pop(idx)\n",
    "            return Individial(boxes)"
   ]
  },
  {
   "cell_type": "code",
   "execution_count": 75,
   "metadata": {},
   "outputs": [],
   "source": [
    "def crossover(ind1: Individial, ind2: Individial) -> Individial:\n",
    "    boxes_left = [\n",
    "        box for box in ind1.boxes if box.middle[0] < 0\n",
    "    ]\n",
    "    boxes = boxes_left.copy()\n",
    "    for box in ind2.boxes:\n",
    "        if box.middle[0] >= 0:\n",
    "            if check(boxes, box):\n",
    "                boxes.append(box)\n",
    "\n",
    "    return Individial(boxes)"
   ]
  },
  {
   "cell_type": "code",
   "execution_count": 76,
   "metadata": {},
   "outputs": [],
   "source": [
    "def base_fig():\n",
    "    figure, axes = plt.subplots()\n",
    "\n",
    "    circle = plt.Circle((0, 0), 800, color=\"red\", fill=False)\n",
    "\n",
    "    figure.set_figwidth(6)\n",
    "    figure.set_figheight(6)\n",
    "\n",
    "    axes.add_artist(circle)\n",
    "    axes.set_aspect(1)\n",
    "    axes.set_xlim(-1000, 1000)\n",
    "    axes.set_ylim(-1000, 1000)\n",
    "    return figure, axes"
   ]
  },
  {
   "cell_type": "code",
   "execution_count": 77,
   "metadata": {},
   "outputs": [],
   "source": [
    "def draw_individial(individual: Individial):\n",
    "    fig, ax = base_fig()\n",
    "    for box in individual.boxes:\n",
    "        ax.add_patch(plt.Rectangle(box.top_left, box.width, box.height, color=\"blue\", alpha=0.5))\n",
    "\n",
    "    return fig, ax\n"
   ]
  },
  {
   "cell_type": "code",
   "execution_count": 78,
   "metadata": {},
   "outputs": [],
   "source": [
    "from IPython.display import display, clear_output"
   ]
  },
  {
   "cell_type": "code",
   "execution_count": 80,
   "metadata": {},
   "outputs": [
    {
     "data": {
      "image/png": "[encoded data removed]",
      "text/plain": [
       "<Figure size 600x600 with 1 Axes>"
      ]
     },
     "metadata": {},
     "output_type": "display_data"
    },
    {
     "name": "stdout",
     "output_type": "stream",
     "text": [
      "CPU times: user 5.53 s, sys: 156 ms, total: 5.69 s\n",
      "Wall time: 5.68 s\n"
     ]
    }
   ],
   "source": [
    "%%time\n",
    "ind = Individial([])\n",
    "for _ in range(10_000):\n",
    "    if np.random.random() < 0.5:\n",
    "        ind = ind.mutate(\"add\")\n",
    "    else:\n",
    "        ind = ind.mutate(\"gaussian\")\n",
    "\n",
    "fig, ax = draw_individial(ind)\n",
    "ax.set_title(f\"Ind: {ind.score}\")\n",
    "display(fig)\n",
    "clear_output(wait = True)\n",
    "plt.pause(0.2)"
   ]
  },
  {
   "cell_type": "code",
   "execution_count": null,
   "metadata": {},
   "outputs": [],
   "source": []
  },
  {
   "cell_type": "code",
   "execution_count": null,
   "metadata": {},
   "outputs": [],
   "source": []
  }
 ],
 "metadata": {
  "kernelspec": {
   "display_name": "mio",
   "language": "python",
   "name": "python3"
  },
  "language_info": {
   "codemirror_mode": {
    "name": "ipython",
    "version": 3
   },
   "file_extension": ".py",
   "mimetype": "text/x-python",
   "name": "python",
   "nbconvert_exporter": "python",
   "pygments_lexer": "ipython3",
   "version": "3.10.13"
  }
 },
 "nbformat": 4,
 "nbformat_minor": 2
}
