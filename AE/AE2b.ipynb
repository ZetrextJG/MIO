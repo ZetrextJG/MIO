{
 "cells": [
  {
   "cell_type": "code",
   "execution_count": 1,
   "metadata": {},
   "outputs": [
    {
     "name": "stderr",
     "output_type": "stream",
     "text": [
      "/tmp/ipykernel_7811/3723902561.py:2: DeprecationWarning: \n",
      "Pyarrow will become a required dependency of pandas in the next major release of pandas (pandas 3.0),\n",
      "(to allow more performant data types, such as the Arrow string type, and better interoperability with other libraries)\n",
      "but was not found to be installed on your system.\n",
      "If this would cause problems for you,\n",
      "please provide us feedback at https://github.com/pandas-dev/pandas/issues/54466\n",
      "        \n",
      "  import pandas as pd\n"
     ]
    }
   ],
   "source": [
    "import numpy as np\n",
    "import pandas as pd\n",
    "from matplotlib import pyplot as plt\n",
    "from dataclasses import dataclass"
   ]
  },
  {
   "cell_type": "code",
   "execution_count": 40,
   "metadata": {},
   "outputs": [],
   "source": [
    "# Load the data\n",
    "R = 800 # 800, 850, 1000, 1100, 1200\n",
    "df1 = pd.read_csv(f'./cutting/r{R}.csv', header=None)\n",
    "df1.columns = [\"width\", \"height\", \"value\"]\n",
    "\n",
    "df2 = df1.copy()\n",
    "df2[\"width\"], df2[\"height\"] = df2[\"height\"], df2[\"width\"]\n",
    "\n",
    "data = pd.concat([df1, df2], ignore_index=True).reset_index(drop=True)"
   ]
  },
  {
   "cell_type": "code",
   "execution_count": 41,
   "metadata": {},
   "outputs": [],
   "source": [
    "def calculate_bouding_angles(data, R):\n",
    "    d_max = data[\"height\"].max()\n",
    "    max_theta = np.arcsin(d_max / (2 * R))\n",
    "    return ((np.pi / 2) + max_theta, np.pi - max_theta)\n",
    "\n",
    "alfa_min, alfa_max = calculate_bouding_angles(data, R)\n",
    "\n",
    "def project_onto_circle(alfa, R):\n",
    "    x = R * np.cos(alfa)\n",
    "    y = R * np.sin(alfa)\n",
    "    return x, y"
   ]
  },
  {
   "cell_type": "code",
   "execution_count": 42,
   "metadata": {},
   "outputs": [],
   "source": [
    "class Rectangle():\n",
    "    def __init__(self, x, y, type_id):\n",
    "        self.width = data.loc[type_id, \"width\"]\n",
    "        self.height = data.loc[type_id, \"height\"]\n",
    "        self.value = data.loc[type_id, \"value\"]\n",
    "\n",
    "        self.vertices = np.array([\n",
    "            [x, y],\n",
    "            [x + self.width, y],\n",
    "            [x, y - self.height],\n",
    "            [x + self.width, y - self.height]\n",
    "        ])\n",
    "\n",
    "\n",
    "    def fits_in_circle(self, R):\n",
    "        v = np.linalg.norm(self.vertices, 2, axis=1) <= R\n",
    "        return np.all(v)\n",
    "\n",
    "    def __repr__(self):\n",
    "        return f\"Rectangle({self.width}, {self.height}, {self.value})\""
   ]
  },
  {
   "cell_type": "code",
   "execution_count": 43,
   "metadata": {},
   "outputs": [],
   "source": [
    "from __future__ import annotations\n",
    "\n",
    "\n",
    "@dataclass\n",
    "class Genom:\n",
    "    alfa: float\n",
    "    types: list\n",
    "\n",
    "    def guassian_mutation(self, sigma=0.1):\n",
    "        \"\"\"Uses gaussian mutation to mutate the alfa value of the genom.\"\"\"\n",
    "        noise = np.random.normal(0, sigma)\n",
    "        alfa = np.clip(self.alfa + noise, alfa_min, alfa_max)\n",
    "        return Genom(alfa, self.types)\n",
    "\n",
    "    def change_type_mutation(self):\n",
    "        \"\"\"Changes the type of a random rectangle in the genom.\"\"\"\n",
    "        types = self.types.copy()\n",
    "        idx = np.random.randint(len(types))\n",
    "        types[idx] = np.random.randint(len(data))\n",
    "        return Genom(self.alfa, types)\n",
    "\n",
    "    def add_type_mutation(self):\n",
    "        \"\"\"Adds a random rectangle to the genom.\"\"\"\n",
    "        types = self.types.copy()\n",
    "        types.append(np.random.randint(len(data)))\n",
    "        return Genom(self.alfa, types)\n",
    "\n",
    "\n",
    "@dataclass\n",
    "class Individual:\n",
    "    genom: Genom\n",
    "    rectangles: list[Rectangle]\n",
    "\n",
    "    @staticmethod\n",
    "    def from_genom(genom: Genom):\n",
    "        rectangles = []\n",
    "        x, y = project_onto_circle(genom.alfa, R)\n",
    "        for i, type_id in enumerate(genom.types):\n",
    "            added = False\n",
    "\n",
    "            rect = Rectangle(x, y, type_id)\n",
    "\n",
    "            if y < 0 and R > np.abs(y - rect.height):\n",
    "                x = -np.sqrt(R**2 - (y - rect.height)**2)\n",
    "                rect = Rectangle(x, y, type_id)\n",
    "\n",
    "\n",
    "            while rect.fits_in_circle(R):\n",
    "                rectangles.append(rect)\n",
    "                added = True\n",
    "\n",
    "                x += rect.width\n",
    "                rect = Rectangle(x, y, type_id)\n",
    "\n",
    "            y -= rect.height\n",
    "\n",
    "            if not added:\n",
    "                genom.types = genom.types[:i]\n",
    "                break\n",
    "\n",
    "\n",
    "        return Individual(genom, rectangles)\n",
    "\n",
    "    def fitness(self):\n",
    "        return sum([rect.value for rect in self.rectangles])\n",
    "\n",
    "    def plot(self):\n",
    "        fig, ax = plt.subplots()\n",
    "        \n",
    "        circle = plt.Circle((0, 0), R, color='red', fill=False)\n",
    "        ax.add_artist(circle)\n",
    "\n",
    "        for rect in self.rectangles:\n",
    "            ax.add_patch(plt.Rectangle(rect.vertices[2], rect.width, rect.height, edgecolor='blue', facecolor='none'))\n",
    "\n",
    "        ax.set_xlim(-R, R)\n",
    "        ax.set_ylim(-R, R)\n",
    "        ax.set_aspect('equal', adjustable='datalim')\n",
    "        return fig, ax"
   ]
  },
  {
   "cell_type": "code",
   "execution_count": 44,
   "metadata": {},
   "outputs": [],
   "source": [
    "def get_parents(population: list[Individual], crossover_p: float = 0.7) -> tuple[list[Individual], list[Individual]]:\n",
    "    \"\"\"\n",
    "    Split the population into two groups of parents\n",
    "    \"\"\"\n",
    "    prob_vector = np.random.random(len(population))\n",
    "    reproductive_population = [\n",
    "        population[i] for i in range(len(population)) if prob_vector[i] < crossover_p\n",
    "    ]\n",
    "    idx = np.arange(len(reproductive_population))\n",
    "    np.random.shuffle(idx)\n",
    "    reproductive_population2 = [\n",
    "        reproductive_population[i] for i in idx\n",
    "    ]\n",
    "    split_idx = len(reproductive_population2) // 2\n",
    "    return reproductive_population2[:split_idx], reproductive_population2[split_idx:(2*split_idx)]"
   ]
  },
  {
   "cell_type": "code",
   "execution_count": 45,
   "metadata": {},
   "outputs": [],
   "source": [
    "def mutate(individual: Individual, mutation_p: float = 0.3) -> Individual:\n",
    "    \"\"\"\n",
    "    Mutate the individual with probability mutation_p\n",
    "    \"\"\"\n",
    "    if np.random.random() < mutation_p:\n",
    "        mutation = np.random.choice(\n",
    "            [Genom.guassian_mutation, Genom.change_type_mutation, Genom.add_type_mutation],\n",
    "            p=[0.2, 0.3, 0.5]\n",
    "        )\n",
    "        genom = mutation(individual.genom)\n",
    "        return Individual.from_genom(genom)\n",
    "    return individual"
   ]
  },
  {
   "cell_type": "code",
   "execution_count": 46,
   "metadata": {},
   "outputs": [],
   "source": [
    "def crossover(ind1: Individual, ind2: Individual) -> Individual:\n",
    "    \"\"\"Performs crossover between two individuals.\"\"\"\n",
    "    genom1, genom2 = ind1.genom, ind2.genom\n",
    "    alfa = genom1.alfa\n",
    "    genom = Genom(alfa, genom1.types + genom2.types)\n",
    "    ind = Individual.from_genom(genom)\n",
    "    return ind"
   ]
  },
  {
   "cell_type": "code",
   "execution_count": 47,
   "metadata": {},
   "outputs": [],
   "source": [
    "def elitism_selection(population: list[Individual], target_n: int, percentage: float = 0.15) -> list[Individual]:\n",
    "    \"\"\"Selects the n best individuals from the population.\"\"\"\n",
    "    n = int(len(population) * percentage)\n",
    "    sorted_population = sorted(population, key=lambda x: x.fitness(), reverse=True)\n",
    "\n",
    "    population = sorted_population[:n]\n",
    "    left_over_population = sorted_population[n:]\n",
    "    while len(population) < target_n:\n",
    "        probs = np.array([ind.fitness() for ind in left_over_population])\n",
    "        probs = probs / probs.sum()\n",
    "        idx = np.random.choice(len(left_over_population), p=probs)\n",
    "        ind = left_over_population.pop(idx)\n",
    "        population.append(ind)\n",
    "\n",
    "    return population"
   ]
  },
  {
   "cell_type": "code",
   "execution_count": 48,
   "metadata": {},
   "outputs": [],
   "source": [
    "def random_individual() -> Individual:\n",
    "    alfa = np.random.uniform(alfa_min, alfa_max)\n",
    "    types = [np.random.randint(len(data))]\n",
    "    return Individual.from_genom(Genom(alfa, types))"
   ]
  },
  {
   "cell_type": "code",
   "execution_count": 49,
   "metadata": {},
   "outputs": [],
   "source": [
    "from tqdm.auto import tqdm"
   ]
  },
  {
   "cell_type": "code",
   "execution_count": 50,
   "metadata": {},
   "outputs": [
    {
     "data": {
      "application/vnd.jupyter.widget-view+json": {
       "model_id": "05146675d6984beba88e9c8b3e86ea80",
       "version_major": 2,
       "version_minor": 0
      },
      "text/plain": [
       "  0%|          | 0/1000 [00:00<?, ?it/s]"
      ]
     },
     "metadata": {},
     "output_type": "display_data"
    }
   ],
   "source": [
    "POPULATION_SIZE = 20\n",
    "population = [random_individual() for _ in range(POPULATION_SIZE)]\n",
    "\n",
    "N_GENERATIONS = 1000\n",
    "for _ in tqdm(range(N_GENERATIONS)):\n",
    "\n",
    "    parents1, parents2 = get_parents(population)\n",
    "\n",
    "    children = []\n",
    "    for p1, p2 in zip(parents1, parents2):\n",
    "        child = crossover(p1, p2)\n",
    "        child = mutate(child)\n",
    "        children.append(child)\n",
    "    \n",
    "    population = elitism_selection(population + children, POPULATION_SIZE)\n",
    "\n",
    "    best_individual = max(population, key=lambda x: x.fitness())\n",
    "    best_fitness = best_individual.fitness()"
   ]
  },
  {
   "cell_type": "code",
   "execution_count": 39,
   "metadata": {},
   "outputs": [
    {
     "data": {
      "image/png": "[encoded data removed]",
      "text/plain": [
       "<Figure size 640x480 with 1 Axes>"
      ]
     },
     "metadata": {},
     "output_type": "display_data"
    }
   ],
   "source": [
    "fig, ax = best_individual.plot()\n",
    "plt.title(f\"R: {R}, Fitness: {best_fitness}\")\n",
    "plt.show()\n"
   ]
  },
  {
   "cell_type": "code",
   "execution_count": null,
   "metadata": {},
   "outputs": [],
   "source": []
  }
 ],
 "metadata": {
  "kernelspec": {
   "display_name": "mio",
   "language": "python",
   "name": "python3"
  },
  "language_info": {
   "codemirror_mode": {
    "name": "ipython",
    "version": 3
   },
   "file_extension": ".py",
   "mimetype": "text/x-python",
   "name": "python",
   "nbconvert_exporter": "python",
   "pygments_lexer": "ipython3",
   "version": "3.10.13"
  }
 },
 "nbformat": 4,
 "nbformat_minor": 2
}
